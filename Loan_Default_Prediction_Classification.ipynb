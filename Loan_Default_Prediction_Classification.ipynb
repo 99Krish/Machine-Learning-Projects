{
  "nbformat": 4,
  "nbformat_minor": 0,
  "metadata": {
    "colab": {
      "provenance": []
    },
    "kernelspec": {
      "name": "python3",
      "display_name": "Python 3"
    },
    "language_info": {
      "name": "python"
    }
  },
  "cells": [
    {
      "cell_type": "code",
      "source": [
        "# Loan Default Prediction Using Machine Learning\n",
        "\n",
        "# This project involves building a machine learning model to predict whether\n",
        "# a loan will default based on applicant data. It includes comprehensive Exploratory\n",
        "# Data Analysis (EDA), feature selection, and the training of multiple models\n",
        "# including Logistic Regression, K-Nearest Neighbors, Random Forest,\n",
        "# Support Vector Machines (SVM), Decision Tree, and Naive Bayes.\n",
        "# Hyperparameter tuning was performed to optimize model performance,\n",
        "# and the results of different models were compared through accuracy\n",
        "# scores, with visualizations in the form of a comparison bar chart.\n",
        "\n",
        "# Skills: EDA, data cleaning, feature engineering, feature selection (SelectKBest), hyperparameter tuning, model evaluation\n",
        "# Models: Logistic Regression, KNN, Random Forest, SVM, Decision Tree, Naive Bayes\n",
        "# Tools: Python, Pandas, NumPy, Seaborn, Matplotlib, Scikit-learn\n",
        "# Outcome: Model comparison based on accuracy and best model selection for predicting loan defaults"
      ],
      "metadata": {
        "id": "rhHqmRoSVfA5"
      },
      "execution_count": null,
      "outputs": []
    },
    {
      "cell_type": "code",
      "source": [
        "# Loans 2007 Dataset\n",
        "# Description: The 2007 loan dataset comes from LendingClub and is much larger.\n",
        "# It provides detailed information on loans issued in 2007, including credit history, loan purpose, income, and debt levels.\n",
        "# Size: Over 42,500 records and 74 columns.\n",
        "# Target Variable: loan_status (Various statuses, but typically used to classify whether the loan is fully paid or charged off).\n",
        "\n",
        "# loan_status: Target variable, which indicates whether the loan is Fully Paid, Charged Off, etc."
      ],
      "metadata": {
        "id": "NDf2J49T5feh"
      },
      "execution_count": null,
      "outputs": []
    },
    {
      "cell_type": "markdown",
      "source": [
        "Import Necessary Libraries"
      ],
      "metadata": {
        "id": "IoVREsxhx-Ox"
      }
    },
    {
      "cell_type": "code",
      "source": [
        "import pandas as pd\n",
        "import numpy as np\n",
        "import seaborn as sns\n",
        "import matplotlib.pyplot as plt\n",
        "from sklearn.model_selection import train_test_split, GridSearchCV\n",
        "from sklearn.preprocessing import StandardScaler\n",
        "from sklearn.feature_selection import SelectKBest, f_classif\n",
        "from sklearn.linear_model import LogisticRegression\n",
        "from sklearn.ensemble import RandomForestClassifier\n",
        "from sklearn.svm import SVC\n",
        "from sklearn.tree import DecisionTreeClassifier\n",
        "from sklearn.naive_bayes import GaussianNB\n",
        "from sklearn.metrics import accuracy_score, classification_report, confusion_matrix"
      ],
      "metadata": {
        "id": "W855WR4AxyVe"
      },
      "execution_count": null,
      "outputs": []
    },
    {
      "cell_type": "markdown",
      "source": [
        "Load the Dataset"
      ],
      "metadata": {
        "id": "1rcA0McX9ITI"
      }
    },
    {
      "cell_type": "code",
      "source": [
        "# Load the dataset\n",
        "url = \"https://raw.githubusercontent.com/lemoinef/Loan-Default-Prediction/refs/heads/master/loans_2007.csv\"\n",
        "df = pd.read_csv(url)\n",
        "\n",
        "# Display the first few rows of the dataframe\n",
        "print(df.head())"
      ],
      "metadata": {
        "colab": {
          "base_uri": "https://localhost:8080/"
        },
        "id": "Wxtum_w71Tsn",
        "outputId": "eab87fa6-ef28-46e8-dc13-e5eec6cac021"
      },
      "execution_count": null,
      "outputs": [
        {
          "output_type": "stream",
          "name": "stdout",
          "text": [
            "        id  member_id  loan_amnt  funded_amnt  funded_amnt_inv        term  \\\n",
            "0  1077501  1296599.0     5000.0       5000.0           4975.0   36 months   \n",
            "1  1077430  1314167.0     2500.0       2500.0           2500.0   60 months   \n",
            "2  1077175  1313524.0     2400.0       2400.0           2400.0   36 months   \n",
            "3  1076863  1277178.0    10000.0      10000.0          10000.0   36 months   \n",
            "4  1075358  1311748.0     3000.0       3000.0           3000.0   60 months   \n",
            "\n",
            "  int_rate  installment grade sub_grade  ... last_pymnt_amnt  \\\n",
            "0   10.65%       162.87     B        B2  ...          171.62   \n",
            "1   15.27%        59.83     C        C4  ...          119.66   \n",
            "2   15.96%        84.33     C        C5  ...          649.91   \n",
            "3   13.49%       339.31     C        C1  ...          357.48   \n",
            "4   12.69%        67.79     B        B5  ...           67.79   \n",
            "\n",
            "  last_credit_pull_d collections_12_mths_ex_med  policy_code application_type  \\\n",
            "0           Dec-2016                        0.0          1.0       INDIVIDUAL   \n",
            "1           Oct-2016                        0.0          1.0       INDIVIDUAL   \n",
            "2           Dec-2016                        0.0          1.0       INDIVIDUAL   \n",
            "3           Apr-2016                        0.0          1.0       INDIVIDUAL   \n",
            "4           Dec-2016                        0.0          1.0       INDIVIDUAL   \n",
            "\n",
            "  acc_now_delinq chargeoff_within_12_mths delinq_amnt pub_rec_bankruptcies  \\\n",
            "0            0.0                      0.0         0.0                  0.0   \n",
            "1            0.0                      0.0         0.0                  0.0   \n",
            "2            0.0                      0.0         0.0                  0.0   \n",
            "3            0.0                      0.0         0.0                  0.0   \n",
            "4            0.0                      0.0         0.0                  0.0   \n",
            "\n",
            "  tax_liens  \n",
            "0       0.0  \n",
            "1       0.0  \n",
            "2       0.0  \n",
            "3       0.0  \n",
            "4       0.0  \n",
            "\n",
            "[5 rows x 52 columns]\n"
          ]
        },
        {
          "output_type": "stream",
          "name": "stderr",
          "text": [
            "<ipython-input-40-9e47001c17fb>:3: DtypeWarning: Columns (0) have mixed types. Specify dtype option on import or set low_memory=False.\n",
            "  df = pd.read_csv(url)\n"
          ]
        }
      ]
    },
    {
      "cell_type": "code",
      "source": [
        "df.columns"
      ],
      "metadata": {
        "colab": {
          "base_uri": "https://localhost:8080/"
        },
        "id": "Ty6UrScF5Rle",
        "outputId": "b0579345-062e-45bb-84e6-43c1534e33dc"
      },
      "execution_count": null,
      "outputs": [
        {
          "output_type": "execute_result",
          "data": {
            "text/plain": [
              "Index(['id', 'member_id', 'loan_amnt', 'funded_amnt', 'funded_amnt_inv',\n",
              "       'term', 'int_rate', 'installment', 'grade', 'sub_grade', 'emp_title',\n",
              "       'emp_length', 'home_ownership', 'annual_inc', 'verification_status',\n",
              "       'issue_d', 'loan_status', 'pymnt_plan', 'purpose', 'title', 'zip_code',\n",
              "       'addr_state', 'dti', 'delinq_2yrs', 'earliest_cr_line',\n",
              "       'inq_last_6mths', 'open_acc', 'pub_rec', 'revol_bal', 'revol_util',\n",
              "       'total_acc', 'initial_list_status', 'out_prncp', 'out_prncp_inv',\n",
              "       'total_pymnt', 'total_pymnt_inv', 'total_rec_prncp', 'total_rec_int',\n",
              "       'total_rec_late_fee', 'recoveries', 'collection_recovery_fee',\n",
              "       'last_pymnt_d', 'last_pymnt_amnt', 'last_credit_pull_d',\n",
              "       'collections_12_mths_ex_med', 'policy_code', 'application_type',\n",
              "       'acc_now_delinq', 'chargeoff_within_12_mths', 'delinq_amnt',\n",
              "       'pub_rec_bankruptcies', 'tax_liens'],\n",
              "      dtype='object')"
            ]
          },
          "metadata": {},
          "execution_count": 41
        }
      ]
    },
    {
      "cell_type": "markdown",
      "source": [
        "Data Exploration and Cleaning"
      ],
      "metadata": {
        "id": "STZabPuA9SNj"
      }
    },
    {
      "cell_type": "code",
      "source": [
        "# Check the shape and data types\n",
        "print(df.info())"
      ],
      "metadata": {
        "colab": {
          "base_uri": "https://localhost:8080/"
        },
        "id": "s96ZpF219PaP",
        "outputId": "436d3322-6eff-4008-fbf8-a33670fc4d5f"
      },
      "execution_count": null,
      "outputs": [
        {
          "output_type": "stream",
          "name": "stdout",
          "text": [
            "<class 'pandas.core.frame.DataFrame'>\n",
            "RangeIndex: 42538 entries, 0 to 42537\n",
            "Data columns (total 52 columns):\n",
            " #   Column                      Non-Null Count  Dtype  \n",
            "---  ------                      --------------  -----  \n",
            " 0   id                          42538 non-null  object \n",
            " 1   member_id                   42535 non-null  float64\n",
            " 2   loan_amnt                   42535 non-null  float64\n",
            " 3   funded_amnt                 42535 non-null  float64\n",
            " 4   funded_amnt_inv             42535 non-null  float64\n",
            " 5   term                        42535 non-null  object \n",
            " 6   int_rate                    42535 non-null  object \n",
            " 7   installment                 42535 non-null  float64\n",
            " 8   grade                       42535 non-null  object \n",
            " 9   sub_grade                   42535 non-null  object \n",
            " 10  emp_title                   39909 non-null  object \n",
            " 11  emp_length                  41423 non-null  object \n",
            " 12  home_ownership              42535 non-null  object \n",
            " 13  annual_inc                  42531 non-null  float64\n",
            " 14  verification_status         42535 non-null  object \n",
            " 15  issue_d                     42535 non-null  object \n",
            " 16  loan_status                 42535 non-null  object \n",
            " 17  pymnt_plan                  42535 non-null  object \n",
            " 18  purpose                     42535 non-null  object \n",
            " 19  title                       42522 non-null  object \n",
            " 20  zip_code                    42535 non-null  object \n",
            " 21  addr_state                  42535 non-null  object \n",
            " 22  dti                         42535 non-null  float64\n",
            " 23  delinq_2yrs                 42506 non-null  float64\n",
            " 24  earliest_cr_line            42506 non-null  object \n",
            " 25  inq_last_6mths              42506 non-null  float64\n",
            " 26  open_acc                    42506 non-null  float64\n",
            " 27  pub_rec                     42506 non-null  float64\n",
            " 28  revol_bal                   42535 non-null  float64\n",
            " 29  revol_util                  42445 non-null  object \n",
            " 30  total_acc                   42506 non-null  float64\n",
            " 31  initial_list_status         42535 non-null  object \n",
            " 32  out_prncp                   42535 non-null  float64\n",
            " 33  out_prncp_inv               42535 non-null  float64\n",
            " 34  total_pymnt                 42535 non-null  float64\n",
            " 35  total_pymnt_inv             42535 non-null  float64\n",
            " 36  total_rec_prncp             42535 non-null  float64\n",
            " 37  total_rec_int               42535 non-null  float64\n",
            " 38  total_rec_late_fee          42535 non-null  float64\n",
            " 39  recoveries                  42535 non-null  float64\n",
            " 40  collection_recovery_fee     42535 non-null  float64\n",
            " 41  last_pymnt_d                42452 non-null  object \n",
            " 42  last_pymnt_amnt             42535 non-null  float64\n",
            " 43  last_credit_pull_d          42531 non-null  object \n",
            " 44  collections_12_mths_ex_med  42390 non-null  float64\n",
            " 45  policy_code                 42535 non-null  float64\n",
            " 46  application_type            42535 non-null  object \n",
            " 47  acc_now_delinq              42506 non-null  float64\n",
            " 48  chargeoff_within_12_mths    42390 non-null  float64\n",
            " 49  delinq_amnt                 42506 non-null  float64\n",
            " 50  pub_rec_bankruptcies        41170 non-null  float64\n",
            " 51  tax_liens                   42430 non-null  float64\n",
            "dtypes: float64(30), object(22)\n",
            "memory usage: 16.9+ MB\n",
            "None\n"
          ]
        }
      ]
    },
    {
      "cell_type": "code",
      "source": [
        "# Check for missing values\n",
        "print(df.isnull().sum())"
      ],
      "metadata": {
        "colab": {
          "base_uri": "https://localhost:8080/"
        },
        "id": "YPIou4_sL1eW",
        "outputId": "0e516747-6a62-4c3f-c5dc-bf4ab9a5451e"
      },
      "execution_count": null,
      "outputs": [
        {
          "output_type": "stream",
          "name": "stdout",
          "text": [
            "id                               0\n",
            "member_id                        3\n",
            "loan_amnt                        3\n",
            "funded_amnt                      3\n",
            "funded_amnt_inv                  3\n",
            "term                             3\n",
            "int_rate                         3\n",
            "installment                      3\n",
            "grade                            3\n",
            "sub_grade                        3\n",
            "emp_title                     2629\n",
            "emp_length                    1115\n",
            "home_ownership                   3\n",
            "annual_inc                       7\n",
            "verification_status              3\n",
            "issue_d                          3\n",
            "loan_status                      3\n",
            "pymnt_plan                       3\n",
            "purpose                          3\n",
            "title                           16\n",
            "zip_code                         3\n",
            "addr_state                       3\n",
            "dti                              3\n",
            "delinq_2yrs                     32\n",
            "earliest_cr_line                32\n",
            "inq_last_6mths                  32\n",
            "open_acc                        32\n",
            "pub_rec                         32\n",
            "revol_bal                        3\n",
            "revol_util                      93\n",
            "total_acc                       32\n",
            "initial_list_status              3\n",
            "out_prncp                        3\n",
            "out_prncp_inv                    3\n",
            "total_pymnt                      3\n",
            "total_pymnt_inv                  3\n",
            "total_rec_prncp                  3\n",
            "total_rec_int                    3\n",
            "total_rec_late_fee               3\n",
            "recoveries                       3\n",
            "collection_recovery_fee          3\n",
            "last_pymnt_d                    86\n",
            "last_pymnt_amnt                  3\n",
            "last_credit_pull_d               7\n",
            "collections_12_mths_ex_med     148\n",
            "policy_code                      3\n",
            "application_type                 3\n",
            "acc_now_delinq                  32\n",
            "chargeoff_within_12_mths       148\n",
            "delinq_amnt                     32\n",
            "pub_rec_bankruptcies          1368\n",
            "tax_liens                      108\n",
            "dtype: int64\n"
          ]
        }
      ]
    },
    {
      "cell_type": "code",
      "source": [
        "# Drop rows with missing target variable (if any)\n",
        "df.dropna(subset=['loan_status'], inplace=True)"
      ],
      "metadata": {
        "id": "-MQAIxgfL7MC"
      },
      "execution_count": null,
      "outputs": []
    },
    {
      "cell_type": "code",
      "source": [
        "# Drop unnecessary columns\n",
        "df.drop(columns=['id', 'member_id'], inplace=True)"
      ],
      "metadata": {
        "id": "P_2Bns9tMAxF"
      },
      "execution_count": null,
      "outputs": []
    },
    {
      "cell_type": "code",
      "source": [
        "# Encode categorical variables\n",
        "df['loan_status'] = df['loan_status'].map({'charged off': 1, 'fully paid': 0})"
      ],
      "metadata": {
        "id": "ECqff55-MEW5"
      },
      "execution_count": null,
      "outputs": []
    },
    {
      "cell_type": "code",
      "source": [
        "# Convert other categorical variables to numerical\n",
        "df = pd.get_dummies(df, drop_first=True)"
      ],
      "metadata": {
        "id": "KOIroRqCMHI5"
      },
      "execution_count": null,
      "outputs": []
    },
    {
      "cell_type": "code",
      "source": [
        "# # Check for outliers\n",
        "# plt.figure(figsize=(10, 6))\n",
        "# sns.boxplot(data=df, orient=\"h\")\n",
        "# plt.title(\"Boxplot of Features\")\n",
        "# plt.show()"
      ],
      "metadata": {
        "id": "5-A2rJVFMOMh"
      },
      "execution_count": null,
      "outputs": []
    },
    {
      "cell_type": "markdown",
      "source": [
        "Feature Selection"
      ],
      "metadata": {
        "id": "f3bv1mRlMiXa"
      }
    },
    {
      "cell_type": "code",
      "source": [
        "import pandas as pd\n",
        "from sklearn.feature_selection import SelectKBest, f_classif\n",
        "from sklearn.preprocessing import OneHotEncoder\n",
        "\n",
        "# Load your dataset\n",
        "url = \"https://raw.githubusercontent.com/lemoinef/Loan-Default-Prediction/refs/heads/master/loans_2007.csv\"\n",
        "df = pd.read_csv(url, low_memory=False)  # Set low_memory=False to avoid dtype warnings\n",
        "\n",
        "# Reduce the size of the dataset for testing\n",
        "df_sample = df.sample(frac=0.1, random_state=42)\n",
        "\n",
        "# Identify numeric columns and fill missing values with the mean\n",
        "numeric_cols = df_sample.select_dtypes(include=['number']).columns\n",
        "df_sample_cleaned = df_sample.copy()  # Create a copy to avoid modifying the original\n",
        "df_sample_cleaned[numeric_cols] = df_sample_cleaned[numeric_cols].fillna(df_sample_cleaned[numeric_cols].mean())\n",
        "\n",
        "# Identify categorical columns and fill missing values with the mode (or drop if necessary)\n",
        "categorical_cols = df_sample_cleaned.select_dtypes(include=['object']).columns\n",
        "df_sample_cleaned[categorical_cols] = df_sample_cleaned[categorical_cols].fillna(df_sample_cleaned[categorical_cols].mode().iloc[0])\n",
        "\n",
        "# One-hot encode categorical variables\n",
        "X_categorical = pd.get_dummies(df_sample_cleaned[categorical_cols], drop_first=True)\n",
        "X_numeric = df_sample_cleaned[numeric_cols]\n",
        "\n",
        "# Combine numeric and one-hot encoded categorical variables\n",
        "X = pd.concat([X_numeric, X_categorical], axis=1)\n",
        "y = df_sample_cleaned['loan_status']\n",
        "\n",
        "# Select the best features using SelectKBest with a smaller k\n",
        "selector = SelectKBest(score_func=f_classif, k=10)  # Select the top 10 features\n",
        "X_selected = selector.fit_transform(X, y)\n",
        "\n",
        "# Get the scores for each feature\n",
        "feature_scores = pd.DataFrame({'Feature': X.columns, 'Score': selector.scores_})\n",
        "feature_scores.sort_values(by='Score', ascending=False, inplace=True)\n",
        "\n",
        "# Display the feature scores\n",
        "print(feature_scores)\n",
        "\n",
        "\n",
        "\n"
      ],
      "metadata": {
        "colab": {
          "base_uri": "https://localhost:8080/"
        },
        "id": "HBv9WmT3Mh2u",
        "outputId": "57a0a13e-81d1-4014-ac9c-23f389ad5d1d"
      },
      "execution_count": null,
      "outputs": [
        {
          "output_type": "stream",
          "name": "stderr",
          "text": [
            "/usr/local/lib/python3.10/dist-packages/sklearn/feature_selection/_univariate_selection.py:112: UserWarning: Features [  23   24   26   29  250  485 6002 7688 8374 8375 8376 8377 8378] are constant.\n",
            "  warnings.warn(\"Features %s are constant.\" % constant_features_idx, UserWarning)\n",
            "/usr/local/lib/python3.10/dist-packages/sklearn/feature_selection/_univariate_selection.py:113: RuntimeWarning: divide by zero encountered in divide\n",
            "  f = msb / msw\n",
            "/usr/local/lib/python3.10/dist-packages/sklearn/feature_selection/_univariate_selection.py:113: RuntimeWarning: invalid value encountered in divide\n",
            "  f = msb / msw\n"
          ]
        },
        {
          "output_type": "stream",
          "name": "stdout",
          "text": [
            "                                 Feature     Score\n",
            "7688  emp_title_University Medical Group       inf\n",
            "8378         loan_status_In Grace Period       inf\n",
            "250                           id_1035442       inf\n",
            "6002              emp_title_Henry Schein       inf\n",
            "485                           id_1075358       inf\n",
            "...                                  ...       ...\n",
            "4350                    int_rate_ 10.59%  0.020548\n",
            "23            collections_12_mths_ex_med       NaN\n",
            "24                           policy_code       NaN\n",
            "26              chargeoff_within_12_mths       NaN\n",
            "29                             tax_liens       NaN\n",
            "\n",
            "[13339 rows x 2 columns]\n"
          ]
        }
      ]
    },
    {
      "cell_type": "markdown",
      "source": [
        " Train-Test Split"
      ],
      "metadata": {
        "id": "8WXiLlagmjuh"
      }
    },
    {
      "cell_type": "code",
      "source": [
        "# Split the data into training and testing sets\n",
        "X_train, X_test, y_train, y_test = train_test_split(X_selected, y, test_size=0.2, random_state=42)"
      ],
      "metadata": {
        "id": "X-WHKmElmmp2"
      },
      "execution_count": null,
      "outputs": []
    },
    {
      "cell_type": "markdown",
      "source": [
        " Standardization"
      ],
      "metadata": {
        "id": "5L5ltAIxmq-L"
      }
    },
    {
      "cell_type": "code",
      "source": [
        "# Standardize the feature values\n",
        "scaler = StandardScaler()\n",
        "X_train = scaler.fit_transform(X_train)\n",
        "X_test = scaler.transform(X_test)\n"
      ],
      "metadata": {
        "id": "mqwyQQVamr7Q"
      },
      "execution_count": null,
      "outputs": []
    },
    {
      "cell_type": "markdown",
      "source": [
        "Model Training and Hyperparameter Tuning"
      ],
      "metadata": {
        "id": "cFYRFgzOmwAH"
      }
    },
    {
      "cell_type": "code",
      "source": [
        "# Define models and parameters for hyperparameter tuning\n",
        "models = {\n",
        "    'Logistic Regression': (LogisticRegression(max_iter=1000), {'C': [0.001, 0.01, 0.1, 1, 10]}),\n",
        "    'Random Forest': (RandomForestClassifier(), {'n_estimators': [50, 100, 200], 'max_depth': [None, 10, 20]}),\n",
        "    'Support Vector Machine': (SVC(), {'C': [0.1, 1, 10], 'kernel': ['linear', 'rbf']}),\n",
        "    'Decision Tree': (DecisionTreeClassifier(), {'max_depth': [None, 10, 20]}),\n",
        "    'Naive Bayes': (GaussianNB(), {})\n",
        "}\n",
        "\n",
        "results = []\n",
        "\n",
        "for name, (model, params) in models.items():\n",
        "    print(f\"Training {name}...\")\n",
        "\n",
        "    grid = GridSearchCV(model, params, cv=5, scoring='accuracy', n_jobs=-1)\n",
        "    grid.fit(X_train, y_train)\n",
        "\n",
        "    best_model = grid.best_estimator_\n",
        "    y_pred = best_model.predict(X_test)\n",
        "\n",
        "    accuracy = accuracy_score(y_test, y_pred)\n",
        "    results.append({'Model': name, 'Best Params': grid.best_params_, 'Accuracy': accuracy})\n",
        "\n",
        "results_df = pd.DataFrame(results)\n",
        "print(results_df)\n"
      ],
      "metadata": {
        "colab": {
          "base_uri": "https://localhost:8080/"
        },
        "id": "SJaQT1kBmwzv",
        "outputId": "9f0d2beb-30eb-42e4-a9ef-8daa2a0fb698"
      },
      "execution_count": null,
      "outputs": [
        {
          "output_type": "stream",
          "name": "stdout",
          "text": [
            "Training Logistic Regression...\n"
          ]
        },
        {
          "output_type": "stream",
          "name": "stderr",
          "text": [
            "/usr/local/lib/python3.10/dist-packages/sklearn/model_selection/_split.py:776: UserWarning: The least populated class in y has only 1 members, which is less than n_splits=5.\n",
            "  warnings.warn(\n"
          ]
        },
        {
          "output_type": "stream",
          "name": "stdout",
          "text": [
            "Training Random Forest...\n"
          ]
        },
        {
          "output_type": "stream",
          "name": "stderr",
          "text": [
            "/usr/local/lib/python3.10/dist-packages/sklearn/model_selection/_split.py:776: UserWarning: The least populated class in y has only 1 members, which is less than n_splits=5.\n",
            "  warnings.warn(\n"
          ]
        },
        {
          "output_type": "stream",
          "name": "stdout",
          "text": [
            "Training Support Vector Machine...\n"
          ]
        },
        {
          "output_type": "stream",
          "name": "stderr",
          "text": [
            "/usr/local/lib/python3.10/dist-packages/sklearn/model_selection/_split.py:776: UserWarning: The least populated class in y has only 1 members, which is less than n_splits=5.\n",
            "  warnings.warn(\n"
          ]
        },
        {
          "output_type": "stream",
          "name": "stdout",
          "text": [
            "Training Decision Tree...\n",
            "Training Naive Bayes...\n"
          ]
        },
        {
          "output_type": "stream",
          "name": "stderr",
          "text": [
            "/usr/local/lib/python3.10/dist-packages/sklearn/model_selection/_split.py:776: UserWarning: The least populated class in y has only 1 members, which is less than n_splits=5.\n",
            "  warnings.warn(\n",
            "/usr/local/lib/python3.10/dist-packages/sklearn/model_selection/_split.py:776: UserWarning: The least populated class in y has only 1 members, which is less than n_splits=5.\n",
            "  warnings.warn(\n"
          ]
        },
        {
          "output_type": "stream",
          "name": "stdout",
          "text": [
            "                    Model                              Best Params  Accuracy\n",
            "0     Logistic Regression                              {'C': 0.01}       1.0\n",
            "1           Random Forest  {'max_depth': None, 'n_estimators': 50}       1.0\n",
            "2  Support Vector Machine           {'C': 0.1, 'kernel': 'linear'}       1.0\n",
            "3           Decision Tree                      {'max_depth': None}       1.0\n",
            "4             Naive Bayes                                       {}       1.0\n"
          ]
        }
      ]
    },
    {
      "cell_type": "markdown",
      "source": [
        "Visualization of Results"
      ],
      "metadata": {
        "id": "U5_sb9fam6g-"
      }
    },
    {
      "cell_type": "code",
      "source": [
        "# Bar chart for model accuracy comparison\n",
        "plt.figure(figsize=(10, 5))\n",
        "sns.barplot(x='Accuracy', y='Model', data=results_df, palette='viridis')\n",
        "plt.title('Model Accuracy Comparison')\n",
        "plt.xlabel('Accuracy')\n",
        "plt.ylabel('Model')\n",
        "\n",
        "# Add labels to each bar in percent\n",
        "for index, value in enumerate(results_df['Accuracy']):\n",
        "    plt.text(value + 0.01, index, f'{value*100:.2f}%', color='black', va=\"center\")\n",
        "\n",
        "plt.show()\n"
      ],
      "metadata": {
        "colab": {
          "base_uri": "https://localhost:8080/",
          "height": 767
        },
        "id": "wWorWOH4m7Un",
        "outputId": "d7e822eb-11d3-4a03-bfae-fb1de4f9b0dc"
      },
      "execution_count": null,
      "outputs": [
        {
          "output_type": "stream",
          "name": "stderr",
          "text": [
            "<ipython-input-53-c83842d45cb5>:3: FutureWarning: \n",
            "\n",
            "Passing `palette` without assigning `hue` is deprecated and will be removed in v0.14.0. Assign the `y` variable to `hue` and set `legend=False` for the same effect.\n",
            "\n",
            "  sns.barplot(x='Accuracy', y='Model', data=results_df, palette='viridis')\n",
            "/usr/local/lib/python3.10/dist-packages/seaborn/_base.py:949: FutureWarning: When grouping with a length-1 list-like, you will need to pass a length-1 tuple to get_group in a future version of pandas. Pass `(name,)` instead of `name` to silence this warning.\n",
            "  data_subset = grouped_data.get_group(pd_key)\n",
            "/usr/local/lib/python3.10/dist-packages/seaborn/_base.py:949: FutureWarning: When grouping with a length-1 list-like, you will need to pass a length-1 tuple to get_group in a future version of pandas. Pass `(name,)` instead of `name` to silence this warning.\n",
            "  data_subset = grouped_data.get_group(pd_key)\n",
            "/usr/local/lib/python3.10/dist-packages/seaborn/_base.py:949: FutureWarning: When grouping with a length-1 list-like, you will need to pass a length-1 tuple to get_group in a future version of pandas. Pass `(name,)` instead of `name` to silence this warning.\n",
            "  data_subset = grouped_data.get_group(pd_key)\n",
            "/usr/local/lib/python3.10/dist-packages/seaborn/_base.py:949: FutureWarning: When grouping with a length-1 list-like, you will need to pass a length-1 tuple to get_group in a future version of pandas. Pass `(name,)` instead of `name` to silence this warning.\n",
            "  data_subset = grouped_data.get_group(pd_key)\n",
            "/usr/local/lib/python3.10/dist-packages/seaborn/_base.py:949: FutureWarning: When grouping with a length-1 list-like, you will need to pass a length-1 tuple to get_group in a future version of pandas. Pass `(name,)` instead of `name` to silence this warning.\n",
            "  data_subset = grouped_data.get_group(pd_key)\n"
          ]
        },
        {
          "output_type": "display_data",
          "data": {
            "text/plain": [
              "<Figure size 1000x500 with 1 Axes>"
            ],
            "image/png": "[encoded data removed]"
          },
          "metadata": {}
        }
      ]
    }
  ]
}